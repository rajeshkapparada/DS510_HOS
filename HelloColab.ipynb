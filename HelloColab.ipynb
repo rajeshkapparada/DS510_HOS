{
  "nbformat": 4,
  "nbformat_minor": 0,
  "metadata": {
    "colab": {
      "provenance": []
    },
    "kernelspec": {
      "name": "python3",
      "display_name": "Python 3"
    },
    "language_info": {
      "name": "python"
    }
  },
  "cells": [
    {
      "cell_type": "code",
      "execution_count": 1,
      "metadata": {
        "colab": {
          "base_uri": "https://localhost:8080/"
        },
        "id": "pB3ztNs35s42",
        "outputId": "c34f1781-7d8d-42fa-cbdf-7b5c65b80b4d"
      },
      "outputs": [
        {
          "output_type": "stream",
          "name": "stdout",
          "text": [
            "Hello, Colab!\n"
          ]
        }
      ],
      "source": [
        "import tensorflow as tf\n",
        "print(\"Hello, Colab!\")"
      ]
    },
    {
      "cell_type": "markdown",
      "source": [
        "#Hello, Colab"
      ],
      "metadata": {
        "id": "javNkrSi8K6T"
      }
    }
  ]
}