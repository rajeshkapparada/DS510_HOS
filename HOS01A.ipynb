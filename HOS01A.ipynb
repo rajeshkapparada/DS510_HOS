{
  "nbformat": 4,
  "nbformat_minor": 0,
  "metadata": {
    "colab": {
      "provenance": []
    },
    "kernelspec": {
      "name": "python3",
      "display_name": "Python 3"
    },
    "language_info": {
      "name": "python"
    }
  },
  "cells": [
    {
      "cell_type": "code",
      "execution_count": 17,
      "metadata": {
        "id": "k5dtuXKP9rgS"
      },
      "outputs": [],
      "source": [
        "import numpy as ql\n",
        "R = ql.matrix([ [0,0,0,0,1,0],\n",
        "                [0,0,0,1,0,1],\n",
        "                [0,0,100,1,0,0],\n",
        "                [0,1,1,0,1,0],\n",
        "                [1,0,0,1,0,0],\n",
        "                [0,1,0,0,0,0] ])\n",
        "Q = ql.matrix(ql.zeros( [6,6] ))\n",
        "gamma = 0.8"
      ]
    },
    {
      "cell_type": "code",
      "source": [
        "def ActionChoice(available_actions_range):\n",
        "    if(sum(PossibleAction) > 0):\n",
        "        next_action = int(ql.random.choice(PossibleAction, 1))\n",
        "    if(sum(PossibleAction) <= 0):\n",
        "        next_action = int(ql.random.choice(5, 1))\n",
        "    return next_action\n",
        "\n",
        "# Sample next action to be performed\n",
        "action = ActionChoice(PossibleAction)"
      ],
      "metadata": {
        "colab": {
          "base_uri": "https://localhost:8080/"
        },
        "id": "MPnud0pGLlsl",
        "outputId": "d4ad8afb-2385-4e59-8a63-8a7ee9b7095e"
      },
      "execution_count": 18,
      "outputs": [
        {
          "output_type": "stream",
          "name": "stderr",
          "text": [
            "/tmp/ipython-input-18-3591774547.py:3: DeprecationWarning: Conversion of an array with ndim > 0 to a scalar is deprecated, and will error in future. Ensure you extract a single element from your array before performing this operation. (Deprecated NumPy 1.25.)\n",
            "  next_action = int(ql.random.choice(PossibleAction, 1))\n"
          ]
        }
      ]
    },
    {
      "cell_type": "code",
      "source": [
        "def reward(current_state, action, gamma):\n",
        "    Max_State = ql.where(Q[action,] == ql.max(Q[action,]))[1]\n",
        "    if Max_State.shape[0] > 1:\n",
        "        Max_State = int(ql.random.choice(Max_State, size=1))\n",
        "    else:\n",
        "        Max_State = int(Max_State)\n",
        "    MaxValue = Q[action, Max_State]\n",
        "\n",
        "    # Q function update\n",
        "    Q[current_state, action] = R[current_state, action] + gamma * MaxValue\n",
        "\n",
        "# Rewarding Q matrix\n",
        "# Removed the incorrect call to reward as agent_s_state and action are not defined here.\n",
        "#reward(agent_s_state,action,gamma)"
      ],
      "metadata": {
        "id": "PDZ3ZQizEluR"
      },
      "execution_count": 19,
      "outputs": []
    },
    {
      "cell_type": "code",
      "source": [
        "for i in range(50000):\n",
        "    current_state = ql.random.randint(0, int(Q.shape[0]))\n",
        "    PossibleAction = possible_actions(current_state)\n",
        "    action = ActionChoice(PossibleAction)\n",
        "    reward(current_state, action, gamma)\n",
        "\n",
        "# Displaying Q before the norm of Q phase\n",
        "print(\"Q :\")\n",
        "print(Q)\n",
        "\n",
        "# Norm of Q\n",
        "print(\"Normed Q :\")\n",
        "print(Q / ql.max(Q) * 100)"
      ],
      "metadata": {
        "colab": {
          "base_uri": "https://localhost:8080/"
        },
        "id": "5yR_thfRE3Lp",
        "outputId": "6e9b98f5-297e-424a-bb88-7b97f919f164"
      },
      "execution_count": 20,
      "outputs": [
        {
          "output_type": "stream",
          "name": "stderr",
          "text": [
            "/tmp/ipython-input-18-3591774547.py:3: DeprecationWarning: Conversion of an array with ndim > 0 to a scalar is deprecated, and will error in future. Ensure you extract a single element from your array before performing this operation. (Deprecated NumPy 1.25.)\n",
            "  next_action = int(ql.random.choice(PossibleAction, 1))\n",
            "/tmp/ipython-input-19-2215864688.py:4: DeprecationWarning: Conversion of an array with ndim > 0 to a scalar is deprecated, and will error in future. Ensure you extract a single element from your array before performing this operation. (Deprecated NumPy 1.25.)\n",
            "  Max_State = int(ql.random.choice(Max_State, size=1))\n",
            "/tmp/ipython-input-19-2215864688.py:6: DeprecationWarning: Conversion of an array with ndim > 0 to a scalar is deprecated, and will error in future. Ensure you extract a single element from your array before performing this operation. (Deprecated NumPy 1.25.)\n",
            "  Max_State = int(Max_State)\n",
            "/tmp/ipython-input-18-3591774547.py:3: DeprecationWarning: Conversion of an array with ndim > 0 to a scalar is deprecated, and will error in future. Ensure you extract a single element from your array before performing this operation. (Deprecated NumPy 1.25.)\n",
            "  next_action = int(ql.random.choice(PossibleAction, 1))\n",
            "/tmp/ipython-input-19-2215864688.py:6: DeprecationWarning: Conversion of an array with ndim > 0 to a scalar is deprecated, and will error in future. Ensure you extract a single element from your array before performing this operation. (Deprecated NumPy 1.25.)\n",
            "  Max_State = int(Max_State)\n"
          ]
        },
        {
          "output_type": "stream",
          "name": "stdout",
          "text": [
            "Q :\n",
            "[[320.  320.  400.  320.8 321.  320. ]\n",
            " [320.  320.  400.  321.8 320.  321. ]\n",
            " [320.  320.  500.  321.8 320.  320. ]\n",
            " [320.  321.  401.  320.8 321.  320. ]\n",
            " [321.  320.  400.  321.8 320.  320. ]\n",
            " [320.  321.  400.  320.8 320.  320. ]]\n",
            "Normed Q :\n",
            "[[ 64.    64.    80.    64.16  64.2   64.  ]\n",
            " [ 64.    64.    80.    64.36  64.    64.2 ]\n",
            " [ 64.    64.   100.    64.36  64.    64.  ]\n",
            " [ 64.    64.2   80.2   64.16  64.2   64.  ]\n",
            " [ 64.2   64.    80.    64.36  64.    64.  ]\n",
            " [ 64.    64.2   80.    64.16  64.    64.  ]]\n"
          ]
        }
      ]
    }
  ]
}